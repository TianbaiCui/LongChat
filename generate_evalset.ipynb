{
 "cells": [
  {
   "cell_type": "code",
   "execution_count": 25,
   "metadata": {},
   "outputs": [],
   "source": [
    "import pandas as pd\n",
    "\n",
    "df = pd.read_json('data/human_annotations/cnn_human.json', orient='index')"
   ]
  },
  {
   "cell_type": "code",
   "execution_count": 10,
   "metadata": {},
   "outputs": [
    {
     "data": {
      "text/plain": [
       "\"The article discusses Russian president Vladimir Putin's speech on Victory Day, in which he blended history with the present and justified his war. It is speculated that Putin may use this day to escalate the conflict in Ukraine, but it is also noted that he has few successes in Ukraine to brag of. The question now is whether Putin will use this day to escalate the war in other ways.\""
      ]
     },
     "execution_count": 10,
     "metadata": {},
     "output_type": "execute_result"
    }
   ],
   "source": [
    "df[\"gpt3\"].values[0]['text']"
   ]
  },
  {
   "cell_type": "code",
   "execution_count": 30,
   "metadata": {},
   "outputs": [],
   "source": [
    "df = pd.read_json('data/test-500/dm.json', orient='index')"
   ]
  },
  {
   "cell_type": "code",
   "execution_count": 24,
   "metadata": {},
   "outputs": [],
   "source": [
    "df[['id', 'article', \"reference\", \"gpt3\"]].to_csv('data/validation_set/xsum.csv', index=False)"
   ]
  },
  {
   "cell_type": "code",
   "execution_count": 29,
   "metadata": {},
   "outputs": [],
   "source": [
    "df[['id', 'article', \"reference\", \"gpt3\"]].to_csv('data/validation_set/cnn.csv', index=False)"
   ]
  },
  {
   "cell_type": "code",
   "execution_count": 32,
   "metadata": {},
   "outputs": [],
   "source": [
    "df[[\"id\", \"article\", \"reference\", \"gpt3\"]].to_csv('data/validation_set/dm.csv', index=False)"
   ]
  },
  {
   "cell_type": "code",
   "execution_count": 34,
   "metadata": {},
   "outputs": [],
   "source": [
    "df = pd.read_json('data/validation_set/writer_summaries.json')"
   ]
  },
  {
   "cell_type": "code",
   "execution_count": 44,
   "metadata": {},
   "outputs": [],
   "source": [
    "df.to_csv('data/validation_set/cnndm_xsum_writer_summaries.csv', index=False)"
   ]
  },
  {
   "cell_type": "code",
   "execution_count": 46,
   "metadata": {},
   "outputs": [],
   "source": [
    "df_grouped = df.groupby(['article_id', 'article']).apply(lambda x: x.loc[x.summary.str.len().idxmax()]).reset_index(drop=True)"
   ]
  },
  {
   "cell_type": "code",
   "execution_count": 47,
   "metadata": {},
   "outputs": [],
   "source": [
    "import json\n",
    "\n",
    "# Define function to create a JSON object for each row\n",
    "def create_json(row):\n",
    "    return {\n",
    "        \"vicuna_format\": {\n",
    "            \"conversations\": [\n",
    "                {\n",
    "                    \"from\": \"human\",\n",
    "                    \"value\": f\"Summarize the text below delimited by triple backquotes (```): \\n```{row['article']}```\\nSUMMARY:\"\n",
    "                },\n",
    "                {\n",
    "                    \"from\": \"gpt\",\n",
    "                    \"value\": row['summary']\n",
    "                }\n",
    "            ]\n",
    "        }\n",
    "    }\n",
    "\n",
    "# Apply function to each row in the DataFrame\n",
    "json_list = df_grouped.apply(create_json, axis=1).tolist()"
   ]
  },
  {
   "cell_type": "code",
   "execution_count": 48,
   "metadata": {},
   "outputs": [],
   "source": [
    "with open('data/validation_set/cnndm_xsum_writer_summaries.jsonl', 'w') as f:\n",
    "    for item in json_list:\n",
    "        f.write(json.dumps(item) + '\\n')"
   ]
  },
  {
   "cell_type": "code",
   "execution_count": 52,
   "metadata": {},
   "outputs": [],
   "source": [
    "df_xsum = pd.read_csv('data/validation_set/xsum.csv')\n",
    "df_cnn = pd.read_csv('data/validation_set/cnn.csv')\n",
    "df_dm = pd.read_csv('data/validation_set/dm.csv')\n",
    "df_samsum = pd.read_csv('data/validation_set/samsum.csv')"
   ]
  },
  {
   "cell_type": "code",
   "execution_count": 53,
   "metadata": {},
   "outputs": [],
   "source": [
    "df = pd.concat([df_cnn, df_dm, df_xsum])"
   ]
  },
  {
   "cell_type": "code",
   "execution_count": 59,
   "metadata": {},
   "outputs": [
    {
     "data": {
      "text/html": [
       "<div>\n",
       "<style scoped>\n",
       "    .dataframe tbody tr th:only-of-type {\n",
       "        vertical-align: middle;\n",
       "    }\n",
       "\n",
       "    .dataframe tbody tr th {\n",
       "        vertical-align: top;\n",
       "    }\n",
       "\n",
       "    .dataframe thead th {\n",
       "        text-align: right;\n",
       "    }\n",
       "</style>\n",
       "<table border=\"1\" class=\"dataframe\">\n",
       "  <thead>\n",
       "    <tr style=\"text-align: right;\">\n",
       "      <th></th>\n",
       "      <th>id</th>\n",
       "      <th>article</th>\n",
       "      <th>reference</th>\n",
       "      <th>gpt3</th>\n",
       "    </tr>\n",
       "  </thead>\n",
       "  <tbody>\n",
       "    <tr>\n",
       "      <th>0</th>\n",
       "      <td>dae2675302d92bdf0bbd6d35c3e473389f8bb5a1</td>\n",
       "      <td>(CNN) Two CNN Heroes are among the earthquake ...</td>\n",
       "      <td>Anuradha Koirala and 425 young women and girls...</td>\n",
       "      <td>Two CNN heroes who are working in Nepal after ...</td>\n",
       "    </tr>\n",
       "    <tr>\n",
       "      <th>1</th>\n",
       "      <td>a8abd023237f7a7f4f83a08694de3d067a24fe95</td>\n",
       "      <td>Seoul (CNN) South Korea's Prime Minister Lee W...</td>\n",
       "      <td>Calls for Lee Wan-koo to resign began after So...</td>\n",
       "      <td>Prime Minister Lee Wan-koo offered to resign o...</td>\n",
       "    </tr>\n",
       "    <tr>\n",
       "      <th>2</th>\n",
       "      <td>cd608e32768d6dcf6fccdc15e4052619f2bfc58c</td>\n",
       "      <td>Sao Paulo, Brazil (CNN) Brazilian police have ...</td>\n",
       "      <td>A top official with President Dilma Rousseff's...</td>\n",
       "      <td>Brazilian police have arrested the treasurer o...</td>\n",
       "    </tr>\n",
       "    <tr>\n",
       "      <th>3</th>\n",
       "      <td>fc1813a2c4ac4a320c1874e5974a09cea9c9a381</td>\n",
       "      <td>(CNN) Most kids want to go out and play when t...</td>\n",
       "      <td>Zuriel Oduwole is a 12-year-old filmmaker . To...</td>\n",
       "      <td>Zuriel Oduwole is a 12-year-old filmmaker from...</td>\n",
       "    </tr>\n",
       "    <tr>\n",
       "      <th>4</th>\n",
       "      <td>43f18fc9b20fe64405d7f18a08fb8d9ef932ed8b</td>\n",
       "      <td>(CNN) A mammoth fire broke out Friday morning ...</td>\n",
       "      <td>Fire breaks out at the General Electric Applia...</td>\n",
       "      <td>A fire broke out at the General Electric Appli...</td>\n",
       "    </tr>\n",
       "  </tbody>\n",
       "</table>\n",
       "</div>"
      ],
      "text/plain": [
       "                                         id  \\\n",
       "0  dae2675302d92bdf0bbd6d35c3e473389f8bb5a1   \n",
       "1  a8abd023237f7a7f4f83a08694de3d067a24fe95   \n",
       "2  cd608e32768d6dcf6fccdc15e4052619f2bfc58c   \n",
       "3  fc1813a2c4ac4a320c1874e5974a09cea9c9a381   \n",
       "4  43f18fc9b20fe64405d7f18a08fb8d9ef932ed8b   \n",
       "\n",
       "                                             article  \\\n",
       "0  (CNN) Two CNN Heroes are among the earthquake ...   \n",
       "1  Seoul (CNN) South Korea's Prime Minister Lee W...   \n",
       "2  Sao Paulo, Brazil (CNN) Brazilian police have ...   \n",
       "3  (CNN) Most kids want to go out and play when t...   \n",
       "4  (CNN) A mammoth fire broke out Friday morning ...   \n",
       "\n",
       "                                           reference  \\\n",
       "0  Anuradha Koirala and 425 young women and girls...   \n",
       "1  Calls for Lee Wan-koo to resign began after So...   \n",
       "2  A top official with President Dilma Rousseff's...   \n",
       "3  Zuriel Oduwole is a 12-year-old filmmaker . To...   \n",
       "4  Fire breaks out at the General Electric Applia...   \n",
       "\n",
       "                                                gpt3  \n",
       "0  Two CNN heroes who are working in Nepal after ...  \n",
       "1  Prime Minister Lee Wan-koo offered to resign o...  \n",
       "2  Brazilian police have arrested the treasurer o...  \n",
       "3  Zuriel Oduwole is a 12-year-old filmmaker from...  \n",
       "4  A fire broke out at the General Electric Appli...  "
      ]
     },
     "execution_count": 59,
     "metadata": {},
     "output_type": "execute_result"
    }
   ],
   "source": [
    "df.head()"
   ]
  },
  {
   "cell_type": "code",
   "execution_count": 60,
   "metadata": {},
   "outputs": [],
   "source": [
    "def create_json(row):\n",
    "    return {\n",
    "        \"vicuna_format\": {\n",
    "            \"conversations\": [\n",
    "                {\n",
    "                    \"from\": \"human\",\n",
    "                    \"value\": f\"Summarize the text below delimited by triple backquotes (```): \\n```{row['article']}```\\nSUMMARY:\"\n",
    "                },\n",
    "                {\n",
    "                    \"from\": \"gpt\",\n",
    "                    \"value\": row['gpt3']\n",
    "                }\n",
    "            ]\n",
    "        }\n",
    "    }\n",
    "\n",
    "# Apply function to each row in the DataFrame\n",
    "json_list = df.apply(create_json, axis=1).tolist()"
   ]
  },
  {
   "cell_type": "code",
   "execution_count": 61,
   "metadata": {},
   "outputs": [],
   "source": [
    "with open('data/validation_set/cnndm_xsum_gpt3.jsonl', 'w') as f:\n",
    "    for item in json_list:\n",
    "        f.write(json.dumps(item) + '\\n')"
   ]
  },
  {
   "cell_type": "code",
   "execution_count": 62,
   "metadata": {},
   "outputs": [
    {
     "data": {
      "text/html": [
       "<div>\n",
       "<style scoped>\n",
       "    .dataframe tbody tr th:only-of-type {\n",
       "        vertical-align: middle;\n",
       "    }\n",
       "\n",
       "    .dataframe tbody tr th {\n",
       "        vertical-align: top;\n",
       "    }\n",
       "\n",
       "    .dataframe thead th {\n",
       "        text-align: right;\n",
       "    }\n",
       "</style>\n",
       "<table border=\"1\" class=\"dataframe\">\n",
       "  <thead>\n",
       "    <tr style=\"text-align: right;\">\n",
       "      <th></th>\n",
       "      <th>id</th>\n",
       "      <th>dialogue</th>\n",
       "      <th>summary</th>\n",
       "    </tr>\n",
       "  </thead>\n",
       "  <tbody>\n",
       "    <tr>\n",
       "      <th>0</th>\n",
       "      <td>13817023</td>\n",
       "      <td>A: Hi Tom, are you busy tomorrow’s afternoon?\\...</td>\n",
       "      <td>A will go to the animal shelter tomorrow to ge...</td>\n",
       "    </tr>\n",
       "    <tr>\n",
       "      <th>1</th>\n",
       "      <td>13716628</td>\n",
       "      <td>Emma: I’ve just fallen in love with this adven...</td>\n",
       "      <td>Emma and Rob love the advent calendar. Lauren ...</td>\n",
       "    </tr>\n",
       "    <tr>\n",
       "      <th>2</th>\n",
       "      <td>13829420</td>\n",
       "      <td>Jackie: Madison is pregnant\\nJackie: but she d...</td>\n",
       "      <td>Madison is pregnant but she doesn't want to ta...</td>\n",
       "    </tr>\n",
       "    <tr>\n",
       "      <th>3</th>\n",
       "      <td>13819648</td>\n",
       "      <td>Marla: &lt;file_photo&gt;\\nMarla: look what I found ...</td>\n",
       "      <td>Marla found a pair of boxers under her bed.</td>\n",
       "    </tr>\n",
       "    <tr>\n",
       "      <th>4</th>\n",
       "      <td>13728448</td>\n",
       "      <td>Robert: Hey give me the address of this music ...</td>\n",
       "      <td>Robert wants Fred to send him the address of t...</td>\n",
       "    </tr>\n",
       "  </tbody>\n",
       "</table>\n",
       "</div>"
      ],
      "text/plain": [
       "         id                                           dialogue  \\\n",
       "0  13817023  A: Hi Tom, are you busy tomorrow’s afternoon?\\...   \n",
       "1  13716628  Emma: I’ve just fallen in love with this adven...   \n",
       "2  13829420  Jackie: Madison is pregnant\\nJackie: but she d...   \n",
       "3  13819648  Marla: <file_photo>\\nMarla: look what I found ...   \n",
       "4  13728448  Robert: Hey give me the address of this music ...   \n",
       "\n",
       "                                             summary  \n",
       "0  A will go to the animal shelter tomorrow to ge...  \n",
       "1  Emma and Rob love the advent calendar. Lauren ...  \n",
       "2  Madison is pregnant but she doesn't want to ta...  \n",
       "3        Marla found a pair of boxers under her bed.  \n",
       "4  Robert wants Fred to send him the address of t...  "
      ]
     },
     "execution_count": 62,
     "metadata": {},
     "output_type": "execute_result"
    }
   ],
   "source": [
    "df_samsum.head()"
   ]
  },
  {
   "cell_type": "code",
   "execution_count": 63,
   "metadata": {},
   "outputs": [],
   "source": [
    "def create_json(row):\n",
    "    return {\n",
    "        \"vicuna_format\": {\n",
    "            \"conversations\": [\n",
    "                {\n",
    "                    \"from\": \"human\",\n",
    "                    \"value\": f\"Summarize the conversation below delimited by triple backquotes (```): \\n```{row['dialogue']}```\\nSUMMARY:\"\n",
    "                },\n",
    "                {\n",
    "                    \"from\": \"gpt\",\n",
    "                    \"value\": row['summary']\n",
    "                }\n",
    "            ]\n",
    "        }\n",
    "    }\n",
    "\n",
    "# Apply function to each row in the DataFrame\n",
    "json_list = df_samsum.apply(create_json, axis=1).tolist()"
   ]
  },
  {
   "cell_type": "code",
   "execution_count": 64,
   "metadata": {},
   "outputs": [],
   "source": [
    "with open('data/validation_set/samsum_reference.jsonl', 'w') as f:\n",
    "    for item in json_list:\n",
    "        f.write(json.dumps(item) + '\\n')"
   ]
  },
  {
   "cell_type": "code",
   "execution_count": null,
   "metadata": {},
   "outputs": [],
   "source": []
  }
 ],
 "metadata": {
  "kernelspec": {
   "display_name": "Python 3",
   "language": "python",
   "name": "python3"
  },
  "language_info": {
   "codemirror_mode": {
    "name": "ipython",
    "version": 3
   },
   "file_extension": ".py",
   "mimetype": "text/x-python",
   "name": "python",
   "nbconvert_exporter": "python",
   "pygments_lexer": "ipython3",
   "version": "3.10.8"
  },
  "orig_nbformat": 4
 },
 "nbformat": 4,
 "nbformat_minor": 2
}
